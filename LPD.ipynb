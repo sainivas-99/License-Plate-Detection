{
  "nbformat": 4,
  "nbformat_minor": 0,
  "metadata": {
    "colab": {
      "provenance": [],
      "gpuType": "T4",
      "mount_file_id": "1V16dCTHZhap_5Z_iMQ_ABobryqsgeI9f",
      "authorship_tag": "ABX9TyPVjWOdTv1E9OyNxwOxxGN0",
      "include_colab_link": true
    },
    "kernelspec": {
      "name": "python3",
      "display_name": "Python 3"
    },
    "language_info": {
      "name": "python"
    },
    "accelerator": "GPU"
  },
  "cells": [
    {
      "cell_type": "markdown",
      "metadata": {
        "id": "view-in-github",
        "colab_type": "text"
      },
      "source": [
        "<a href=\"https://colab.research.google.com/github/sainivas-99/License-Plate-Detection/blob/main/LPD.ipynb\" target=\"_parent\"><img src=\"https://colab.research.google.com/assets/colab-badge.svg\" alt=\"Open In Colab\"/></a>"
      ]
    },
    {
      "cell_type": "code",
      "source": [
        "!pip install ultralytics -qq\n",
        "!pip install easyocr -qq"
      ],
      "metadata": {
        "id": "LI43blCoLL5e",
        "colab": {
          "base_uri": "https://localhost:8080/"
        },
        "outputId": "2804aa71-c0fb-406e-a4a0-edaf7b7dafee"
      },
      "execution_count": 1,
      "outputs": [
        {
          "output_type": "stream",
          "name": "stdout",
          "text": [
            "\u001b[2K     \u001b[90m━━━━━━━━━━━━━━━━━━━━━━━━━━━━━━━━━━━━━━━━\u001b[0m \u001b[32m721.2/721.2 kB\u001b[0m \u001b[31m10.0 MB/s\u001b[0m eta \u001b[36m0:00:00\u001b[0m\n",
            "\u001b[2K     \u001b[90m━━━━━━━━━━━━━━━━━━━━━━━━━━━━━━━━━━━━━━━━\u001b[0m \u001b[32m23.7/23.7 MB\u001b[0m \u001b[31m42.0 MB/s\u001b[0m eta \u001b[36m0:00:00\u001b[0m\n",
            "\u001b[2K     \u001b[90m━━━━━━━━━━━━━━━━━━━━━━━━━━━━━━━━━━━━━━━━\u001b[0m \u001b[32m823.6/823.6 kB\u001b[0m \u001b[31m67.7 MB/s\u001b[0m eta \u001b[36m0:00:00\u001b[0m\n",
            "\u001b[2K     \u001b[90m━━━━━━━━━━━━━━━━━━━━━━━━━━━━━━━━━━━━━━━━\u001b[0m \u001b[32m14.1/14.1 MB\u001b[0m \u001b[31m76.0 MB/s\u001b[0m eta \u001b[36m0:00:00\u001b[0m\n",
            "\u001b[2K     \u001b[90m━━━━━━━━━━━━━━━━━━━━━━━━━━━━━━━━━━━━━━━━\u001b[0m \u001b[32m731.7/731.7 MB\u001b[0m \u001b[31m2.2 MB/s\u001b[0m eta \u001b[36m0:00:00\u001b[0m\n",
            "\u001b[2K     \u001b[90m━━━━━━━━━━━━━━━━━━━━━━━━━━━━━━━━━━━━━━━━\u001b[0m \u001b[32m410.6/410.6 MB\u001b[0m \u001b[31m2.6 MB/s\u001b[0m eta \u001b[36m0:00:00\u001b[0m\n",
            "\u001b[2K     \u001b[90m━━━━━━━━━━━━━━━━━━━━━━━━━━━━━━━━━━━━━━━━\u001b[0m \u001b[32m121.6/121.6 MB\u001b[0m \u001b[31m8.2 MB/s\u001b[0m eta \u001b[36m0:00:00\u001b[0m\n",
            "\u001b[2K     \u001b[90m━━━━━━━━━━━━━━━━━━━━━━━━━━━━━━━━━━━━━━━━\u001b[0m \u001b[32m56.5/56.5 MB\u001b[0m \u001b[31m14.0 MB/s\u001b[0m eta \u001b[36m0:00:00\u001b[0m\n",
            "\u001b[2K     \u001b[90m━━━━━━━━━━━━━━━━━━━━━━━━━━━━━━━━━━━━━━━━\u001b[0m \u001b[32m124.2/124.2 MB\u001b[0m \u001b[31m8.2 MB/s\u001b[0m eta \u001b[36m0:00:00\u001b[0m\n",
            "\u001b[2K     \u001b[90m━━━━━━━━━━━━━━━━━━━━━━━━━━━━━━━━━━━━━━━━\u001b[0m \u001b[32m196.0/196.0 MB\u001b[0m \u001b[31m6.6 MB/s\u001b[0m eta \u001b[36m0:00:00\u001b[0m\n",
            "\u001b[2K     \u001b[90m━━━━━━━━━━━━━━━━━━━━━━━━━━━━━━━━━━━━━━━━\u001b[0m \u001b[32m166.0/166.0 MB\u001b[0m \u001b[31m6.5 MB/s\u001b[0m eta \u001b[36m0:00:00\u001b[0m\n",
            "\u001b[2K     \u001b[90m━━━━━━━━━━━━━━━━━━━━━━━━━━━━━━━━━━━━━━━━\u001b[0m \u001b[32m99.1/99.1 kB\u001b[0m \u001b[31m17.0 MB/s\u001b[0m eta \u001b[36m0:00:00\u001b[0m\n",
            "\u001b[2K     \u001b[90m━━━━━━━━━━━━━━━━━━━━━━━━━━━━━━━━━━━━━━━━\u001b[0m \u001b[32m21.1/21.1 MB\u001b[0m \u001b[31m83.8 MB/s\u001b[0m eta \u001b[36m0:00:00\u001b[0m\n",
            "\u001b[2K     \u001b[90m━━━━━━━━━━━━━━━━━━━━━━━━━━━━━━━━━━━━━━━━\u001b[0m \u001b[32m2.9/2.9 MB\u001b[0m \u001b[31m19.2 MB/s\u001b[0m eta \u001b[36m0:00:00\u001b[0m\n",
            "\u001b[2K     \u001b[90m━━━━━━━━━━━━━━━━━━━━━━━━━━━━━━━━━━━━━━━━\u001b[0m \u001b[32m908.3/908.3 kB\u001b[0m \u001b[31m35.4 MB/s\u001b[0m eta \u001b[36m0:00:00\u001b[0m\n",
            "\u001b[2K     \u001b[90m━━━━━━━━━━━━━━━━━━━━━━━━━━━━━━━━━━━━━━━━\u001b[0m \u001b[32m307.2/307.2 kB\u001b[0m \u001b[31m29.9 MB/s\u001b[0m eta \u001b[36m0:00:00\u001b[0m\n",
            "\u001b[?25h"
          ]
        }
      ]
    },
    {
      "cell_type": "code",
      "source": [
        "import os\n",
        "import shutil\n",
        "import yaml\n",
        "import numpy as np\n",
        "import matplotlib.pyplot as plt\n",
        "from matplotlib.patches import Rectangle\n",
        "import seaborn as sns\n",
        "\n",
        "import IPython.display as display\n",
        "import cv2\n",
        "\n",
        "import ultralytics\n",
        "from ultralytics import YOLO\n",
        "\n",
        "import easyocr\n",
        "\n",
        "import xml.etree.ElementTree as xt\n",
        "from bs4 import BeautifulSoup\n",
        "import glob"
      ],
      "metadata": {
        "id": "jJT33HUoNIXb"
      },
      "execution_count": 4,
      "outputs": []
    },
    {
      "cell_type": "code",
      "source": [
        "image_path = glob.glob('/content/drive/MyDrive/Colab Notebooks/ML/datasets/images/*.png')\n",
        "xml_annotations_path = glob.glob('/content/drive/MyDrive/Colab Notebooks/ML/datasets/annotations/*.xml')\n",
        "\n",
        "annotations_tree = xt.parse(xml_annotations_path[0])\n",
        "xt.dump(annotations_tree)"
      ],
      "metadata": {
        "id": "SfqVW2VJNenf",
        "colab": {
          "base_uri": "https://localhost:8080/"
        },
        "outputId": "a7ff89e0-1fbc-4864-9f58-2926079024fe"
      },
      "execution_count": 6,
      "outputs": [
        {
          "output_type": "stream",
          "name": "stdout",
          "text": [
            "<annotation>\n",
            "    <folder>images</folder>\n",
            "    <filename>Cars0.png</filename>\n",
            "    <size>\n",
            "        <width>500</width>\n",
            "        <height>268</height>\n",
            "        <depth>3</depth>\n",
            "    </size>\n",
            "    <segmented>0</segmented>\n",
            "    <object>\n",
            "        <name>licence</name>\n",
            "        <pose>Unspecified</pose>\n",
            "        <truncated>0</truncated>\n",
            "        <occluded>0</occluded>\n",
            "        <difficult>0</difficult>\n",
            "        <bndbox>\n",
            "            <xmin>226</xmin>\n",
            "            <ymin>125</ymin>\n",
            "            <xmax>419</xmax>\n",
            "            <ymax>173</ymax>\n",
            "        </bndbox>\n",
            "    </object>\n",
            "</annotation>\n"
          ]
        }
      ]
    },
    {
      "cell_type": "code",
      "source": [
        "for i, file_path in enumerate(xml_annotations_path):\n",
        "  info = xt.parse(file_path)\n",
        "  root = info.getroot()\n",
        "  member_object = root.find('object')\n",
        "\n",
        "  labels_info = member_object.find('bndbox')\n",
        "  xmin = int(labels_info.find('xmin').text)\n",
        "  xmax = int(labels_info.find('xmax').text)\n",
        "  ymin = int(labels_info.find('ymin').text)\n",
        "  ymax = int(labels_info.find('ymax').text)\n"
      ],
      "metadata": {
        "id": "jUtKTulGocDm"
      },
      "execution_count": null,
      "outputs": []
    }
  ]
}