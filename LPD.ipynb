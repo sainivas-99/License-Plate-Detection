{
  "nbformat": 4,
  "nbformat_minor": 0,
  "metadata": {
    "colab": {
      "provenance": [],
      "gpuType": "T4",
      "mount_file_id": "1V16dCTHZhap_5Z_iMQ_ABobryqsgeI9f",
      "authorship_tag": "ABX9TyMwvgxk+3KcNPa/IJB3wpwY",
      "include_colab_link": true
    },
    "kernelspec": {
      "name": "python3",
      "display_name": "Python 3"
    },
    "language_info": {
      "name": "python"
    },
    "accelerator": "GPU"
  },
  "cells": [
    {
      "cell_type": "markdown",
      "metadata": {
        "id": "view-in-github",
        "colab_type": "text"
      },
      "source": [
        "<a href=\"https://colab.research.google.com/github/sainivas-99/License-Plate-Detection/blob/main/LPD.ipynb\" target=\"_parent\"><img src=\"https://colab.research.google.com/assets/colab-badge.svg\" alt=\"Open In Colab\"/></a>"
      ]
    },
    {
      "cell_type": "code",
      "source": [
        "!pip install ultralytics -qq\n",
        "!pip install easyocr -qq\n",
        "!pip install GPUtil -qq\n",
        "!pip install pytesseract -qq"
      ],
      "metadata": {
        "id": "LI43blCoLL5e",
        "colab": {
          "base_uri": "https://localhost:8080/"
        },
        "outputId": "11e1239c-1e84-44e9-9aa7-9cb3f37b09c6"
      },
      "execution_count": 1,
      "outputs": [
        {
          "output_type": "stream",
          "name": "stdout",
          "text": [
            "\u001b[2K     \u001b[90m━━━━━━━━━━━━━━━━━━━━━━━━━━━━━━━━━━━━━━━━\u001b[0m \u001b[32m721.3/721.3 kB\u001b[0m \u001b[31m15.3 MB/s\u001b[0m eta \u001b[36m0:00:00\u001b[0m\n",
            "\u001b[2K     \u001b[90m━━━━━━━━━━━━━━━━━━━━━━━━━━━━━━━━━━━━━━━━\u001b[0m \u001b[32m23.7/23.7 MB\u001b[0m \u001b[31m51.6 MB/s\u001b[0m eta \u001b[36m0:00:00\u001b[0m\n",
            "\u001b[2K     \u001b[90m━━━━━━━━━━━━━━━━━━━━━━━━━━━━━━━━━━━━━━━━\u001b[0m \u001b[32m823.6/823.6 kB\u001b[0m \u001b[31m67.4 MB/s\u001b[0m eta \u001b[36m0:00:00\u001b[0m\n",
            "\u001b[2K     \u001b[90m━━━━━━━━━━━━━━━━━━━━━━━━━━━━━━━━━━━━━━━━\u001b[0m \u001b[32m14.1/14.1 MB\u001b[0m \u001b[31m81.1 MB/s\u001b[0m eta \u001b[36m0:00:00\u001b[0m\n",
            "\u001b[2K     \u001b[90m━━━━━━━━━━━━━━━━━━━━━━━━━━━━━━━━━━━━━━━━\u001b[0m \u001b[32m731.7/731.7 MB\u001b[0m \u001b[31m2.3 MB/s\u001b[0m eta \u001b[36m0:00:00\u001b[0m\n",
            "\u001b[2K     \u001b[90m━━━━━━━━━━━━━━━━━━━━━━━━━━━━━━━━━━━━━━━━\u001b[0m \u001b[32m410.6/410.6 MB\u001b[0m \u001b[31m1.6 MB/s\u001b[0m eta \u001b[36m0:00:00\u001b[0m\n",
            "\u001b[2K     \u001b[90m━━━━━━━━━━━━━━━━━━━━━━━━━━━━━━━━━━━━━━━━\u001b[0m \u001b[32m121.6/121.6 MB\u001b[0m \u001b[31m8.1 MB/s\u001b[0m eta \u001b[36m0:00:00\u001b[0m\n",
            "\u001b[2K     \u001b[90m━━━━━━━━━━━━━━━━━━━━━━━━━━━━━━━━━━━━━━━━\u001b[0m \u001b[32m56.5/56.5 MB\u001b[0m \u001b[31m13.6 MB/s\u001b[0m eta \u001b[36m0:00:00\u001b[0m\n",
            "\u001b[2K     \u001b[90m━━━━━━━━━━━━━━━━━━━━━━━━━━━━━━━━━━━━━━━━\u001b[0m \u001b[32m124.2/124.2 MB\u001b[0m \u001b[31m7.9 MB/s\u001b[0m eta \u001b[36m0:00:00\u001b[0m\n",
            "\u001b[2K     \u001b[90m━━━━━━━━━━━━━━━━━━━━━━━━━━━━━━━━━━━━━━━━\u001b[0m \u001b[32m196.0/196.0 MB\u001b[0m \u001b[31m6.3 MB/s\u001b[0m eta \u001b[36m0:00:00\u001b[0m\n",
            "\u001b[2K     \u001b[90m━━━━━━━━━━━━━━━━━━━━━━━━━━━━━━━━━━━━━━━━\u001b[0m \u001b[32m166.0/166.0 MB\u001b[0m \u001b[31m7.2 MB/s\u001b[0m eta \u001b[36m0:00:00\u001b[0m\n",
            "\u001b[2K     \u001b[90m━━━━━━━━━━━━━━━━━━━━━━━━━━━━━━━━━━━━━━━━\u001b[0m \u001b[32m99.1/99.1 kB\u001b[0m \u001b[31m13.3 MB/s\u001b[0m eta \u001b[36m0:00:00\u001b[0m\n",
            "\u001b[2K     \u001b[90m━━━━━━━━━━━━━━━━━━━━━━━━━━━━━━━━━━━━━━━━\u001b[0m \u001b[32m21.1/21.1 MB\u001b[0m \u001b[31m60.3 MB/s\u001b[0m eta \u001b[36m0:00:00\u001b[0m\n",
            "\u001b[2K     \u001b[90m━━━━━━━━━━━━━━━━━━━━━━━━━━━━━━━━━━━━━━━━\u001b[0m \u001b[32m2.9/2.9 MB\u001b[0m \u001b[31m35.7 MB/s\u001b[0m eta \u001b[36m0:00:00\u001b[0m\n",
            "\u001b[2K     \u001b[90m━━━━━━━━━━━━━━━━━━━━━━━━━━━━━━━━━━━━━━━━\u001b[0m \u001b[32m908.3/908.3 kB\u001b[0m \u001b[31m62.9 MB/s\u001b[0m eta \u001b[36m0:00:00\u001b[0m\n",
            "\u001b[2K     \u001b[90m━━━━━━━━━━━━━━━━━━━━━━━━━━━━━━━━━━━━━━━━\u001b[0m \u001b[32m307.2/307.2 kB\u001b[0m \u001b[31m33.6 MB/s\u001b[0m eta \u001b[36m0:00:00\u001b[0m\n",
            "\u001b[?25h  Preparing metadata (setup.py) ... \u001b[?25l\u001b[?25hdone\n",
            "  Building wheel for GPUtil (setup.py) ... \u001b[?25l\u001b[?25hdone\n"
          ]
        }
      ]
    },
    {
      "cell_type": "code",
      "source": [
        "import os\n",
        "import shutil\n",
        "import yaml\n",
        "import numpy as np\n",
        "import matplotlib.pyplot as plt\n",
        "from matplotlib.patches import Rectangle\n",
        "import seaborn as sns\n",
        "\n",
        "import IPython.display as display\n",
        "import cv2\n",
        "\n",
        "import ultralytics\n",
        "from ultralytics import YOLO\n",
        "import IPython.display as display\n",
        "import easyocr\n",
        "from GPUtil import showUtilization as gpu_usage\n",
        "from numba import cuda\n",
        "import pytesseract\n",
        "import xml.etree.ElementTree as xt\n",
        "from bs4 import BeautifulSoup\n",
        "import glob"
      ],
      "metadata": {
        "id": "jJT33HUoNIXb"
      },
      "execution_count": 2,
      "outputs": []
    },
    {
      "cell_type": "code",
      "source": [
        "def get_bbox_coordinates(path):\n",
        "    parsed = xt.parse(path)\n",
        "    root = parsed.getroot()\n",
        "    img_object = root.find('object')\n",
        "\n",
        "    labels_info = img_object.find('bndbox')\n",
        "    xmin = int(labels_info.find('xmin').text)\n",
        "    xmax = int(labels_info.find('xmax').text)\n",
        "    ymin = int(labels_info.find('ymin').text)\n",
        "    ymax = int(labels_info.find('ymax').text)\n",
        "\n",
        "    return  xmin, xmax, ymin, ymax\n",
        "\n",
        "def draw_boundingbox(coordinates, img, title = '' ,thickness=1):\n",
        "    coordinate_values = coordinates[['xmin','xmax','ymin','ymax']].values.astype(int)\n",
        "    classes = coordinates['class'].values\n",
        "\n",
        "    for i,detection in enumerate(coordinate_values):\n",
        "        begin = (detection[0], detection[-1])\n",
        "        end = (detection[1], detection[2])\n",
        "        detected_class = classes[i]\n",
        "        if detected_class == 'car_plate':\n",
        "            number_plate = coordinates['plate_number'].values[i]\n",
        "            cv2.rectangle(img, begin, end, (0,0,190), thickness)\n",
        "            cv2.putText(img=img, text=f'{detected_class} ',\n",
        "                org= (detection[0], detection[2]-20),\n",
        "                fontFace=cv2.FONT_HERSHEY_TRIPLEX, fontScale=1, color=(0, 0, 255),thickness=2)\n",
        "            cv2.putText(img=img, text=f'{number_plate}',\n",
        "                org= (detection[0]-10, detection[-1]+30),\n",
        "                fontFace=cv2.FONT_HERSHEY_TRIPLEX, fontScale=1, color=(0, 0, 255),thickness=2)\n",
        "        else:\n",
        "            cv2.rectangle(img, begin, end, (255,0,0), thickness)\n",
        "\n",
        "            cv2.putText(img=img, text=f'{detected_class}',\n",
        "                org= (detection[0], detection[2]-20),\n",
        "                fontFace=cv2.FONT_HERSHEY_TRIPLEX, fontScale=1, color=(255, 255, 0),thickness=2)\n",
        "\n",
        "    return img\n",
        "\n",
        "\n",
        "def make_folder(path):\n",
        "    if not os.path.exists(path):\n",
        "        os.mkdir(path)"
      ],
      "metadata": {
        "id": "qDqYgtgfvB6B"
      },
      "execution_count": 6,
      "outputs": []
    },
    {
      "cell_type": "code",
      "source": [
        "image_path = glob.glob('/content/drive/MyDrive/Colab Notebooks/ML/datasets/images/*.png')\n",
        "xml_annotations_path = glob.glob('/content/drive/MyDrive/Colab Notebooks/ML/datasets/annotations/*.xml')\n",
        "\n",
        "annotations_tree = xt.parse(xml_annotations_path[0])\n",
        "xt.dump(annotations_tree)"
      ],
      "metadata": {
        "id": "SfqVW2VJNenf",
        "colab": {
          "base_uri": "https://localhost:8080/"
        },
        "outputId": "6fbf8450-2b4d-4098-cd93-e73cd5f807b3"
      },
      "execution_count": 7,
      "outputs": [
        {
          "output_type": "stream",
          "name": "stdout",
          "text": [
            "<annotation>\n",
            "    <folder>images</folder>\n",
            "    <filename>Cars0.png</filename>\n",
            "    <size>\n",
            "        <width>500</width>\n",
            "        <height>268</height>\n",
            "        <depth>3</depth>\n",
            "    </size>\n",
            "    <segmented>0</segmented>\n",
            "    <object>\n",
            "        <name>licence</name>\n",
            "        <pose>Unspecified</pose>\n",
            "        <truncated>0</truncated>\n",
            "        <occluded>0</occluded>\n",
            "        <difficult>0</difficult>\n",
            "        <bndbox>\n",
            "            <xmin>226</xmin>\n",
            "            <ymin>125</ymin>\n",
            "            <xmax>419</xmax>\n",
            "            <ymax>173</ymax>\n",
            "        </bndbox>\n",
            "    </object>\n",
            "</annotation>\n"
          ]
        }
      ]
    },
    {
      "cell_type": "code",
      "source": [
        "index = np.arange(len(xml_annotations_path))\n",
        "np.random.shuffle(index)\n",
        "\n",
        "val_indices = index[:50]\n",
        "train_indices = index[50:]\n",
        "\n",
        "print('Train Size: ', len(train_indices))\n",
        "print('Valid Size: ', len(val_indices))"
      ],
      "metadata": {
        "id": "jUtKTulGocDm",
        "colab": {
          "base_uri": "https://localhost:8080/"
        },
        "outputId": "7dbfa33a-f721-4562-e05d-ede5284b797a"
      },
      "execution_count": 8,
      "outputs": [
        {
          "output_type": "stream",
          "name": "stdout",
          "text": [
            "Train Size:  383\n",
            "Valid Size:  50\n"
          ]
        }
      ]
    },
    {
      "cell_type": "code",
      "source": [],
      "metadata": {
        "id": "Fc-uX7Fvxcb9"
      },
      "execution_count": null,
      "outputs": []
    }
  ]
}