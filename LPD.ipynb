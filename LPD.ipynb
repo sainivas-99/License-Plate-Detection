{
  "nbformat": 4,
  "nbformat_minor": 0,
  "metadata": {
    "colab": {
      "provenance": [],
      "gpuType": "T4",
      "mount_file_id": "1V16dCTHZhap_5Z_iMQ_ABobryqsgeI9f",
      "authorship_tag": "ABX9TyNUi92cUbQFwc7RUO+1UkPd",
      "include_colab_link": true
    },
    "kernelspec": {
      "name": "python3",
      "display_name": "Python 3"
    },
    "language_info": {
      "name": "python"
    },
    "accelerator": "GPU"
  },
  "cells": [
    {
      "cell_type": "markdown",
      "metadata": {
        "id": "view-in-github",
        "colab_type": "text"
      },
      "source": [
        "<a href=\"https://colab.research.google.com/github/sainivas-99/License-Plate-Detection/blob/main/LPD.ipynb\" target=\"_parent\"><img src=\"https://colab.research.google.com/assets/colab-badge.svg\" alt=\"Open In Colab\"/></a>"
      ]
    },
    {
      "cell_type": "code",
      "source": [
        "!pip install ultralytics -qq\n",
        "!pip install easyocr -qq\n",
        "!pip install GPUtil -qq\n",
        "!pip install pytesseract -qq"
      ],
      "metadata": {
        "id": "LI43blCoLL5e",
        "colab": {
          "base_uri": "https://localhost:8080/"
        },
        "outputId": "509cfdda-f03b-44a0-dbf3-8fc29a0aeb7e"
      },
      "execution_count": 1,
      "outputs": [
        {
          "output_type": "stream",
          "name": "stdout",
          "text": [
            "\u001b[2K     \u001b[90m━━━━━━━━━━━━━━━━━━━━━━━━━━━━━━━━━━━━━━━━\u001b[0m \u001b[32m722.9/722.9 kB\u001b[0m \u001b[31m10.2 MB/s\u001b[0m eta \u001b[36m0:00:00\u001b[0m\n",
            "\u001b[2K     \u001b[90m━━━━━━━━━━━━━━━━━━━━━━━━━━━━━━━━━━━━━━━━\u001b[0m \u001b[32m23.7/23.7 MB\u001b[0m \u001b[31m55.4 MB/s\u001b[0m eta \u001b[36m0:00:00\u001b[0m\n",
            "\u001b[2K     \u001b[90m━━━━━━━━━━━━━━━━━━━━━━━━━━━━━━━━━━━━━━━━\u001b[0m \u001b[32m823.6/823.6 kB\u001b[0m \u001b[31m73.8 MB/s\u001b[0m eta \u001b[36m0:00:00\u001b[0m\n",
            "\u001b[2K     \u001b[90m━━━━━━━━━━━━━━━━━━━━━━━━━━━━━━━━━━━━━━━━\u001b[0m \u001b[32m14.1/14.1 MB\u001b[0m \u001b[31m84.5 MB/s\u001b[0m eta \u001b[36m0:00:00\u001b[0m\n",
            "\u001b[2K     \u001b[90m━━━━━━━━━━━━━━━━━━━━━━━━━━━━━━━━━━━━━━━━\u001b[0m \u001b[32m731.7/731.7 MB\u001b[0m \u001b[31m2.4 MB/s\u001b[0m eta \u001b[36m0:00:00\u001b[0m\n",
            "\u001b[2K     \u001b[90m━━━━━━━━━━━━━━━━━━━━━━━━━━━━━━━━━━━━━━━━\u001b[0m \u001b[32m410.6/410.6 MB\u001b[0m \u001b[31m1.3 MB/s\u001b[0m eta \u001b[36m0:00:00\u001b[0m\n",
            "\u001b[2K     \u001b[90m━━━━━━━━━━━━━━━━━━━━━━━━━━━━━━━━━━━━━━━━\u001b[0m \u001b[32m121.6/121.6 MB\u001b[0m \u001b[31m8.2 MB/s\u001b[0m eta \u001b[36m0:00:00\u001b[0m\n",
            "\u001b[2K     \u001b[90m━━━━━━━━━━━━━━━━━━━━━━━━━━━━━━━━━━━━━━━━\u001b[0m \u001b[32m56.5/56.5 MB\u001b[0m \u001b[31m9.7 MB/s\u001b[0m eta \u001b[36m0:00:00\u001b[0m\n",
            "\u001b[2K     \u001b[90m━━━━━━━━━━━━━━━━━━━━━━━━━━━━━━━━━━━━━━━━\u001b[0m \u001b[32m124.2/124.2 MB\u001b[0m \u001b[31m8.2 MB/s\u001b[0m eta \u001b[36m0:00:00\u001b[0m\n",
            "\u001b[2K     \u001b[90m━━━━━━━━━━━━━━━━━━━━━━━━━━━━━━━━━━━━━━━━\u001b[0m \u001b[32m196.0/196.0 MB\u001b[0m \u001b[31m2.2 MB/s\u001b[0m eta \u001b[36m0:00:00\u001b[0m\n",
            "\u001b[2K     \u001b[90m━━━━━━━━━━━━━━━━━━━━━━━━━━━━━━━━━━━━━━━━\u001b[0m \u001b[32m166.0/166.0 MB\u001b[0m \u001b[31m5.8 MB/s\u001b[0m eta \u001b[36m0:00:00\u001b[0m\n",
            "\u001b[2K     \u001b[90m━━━━━━━━━━━━━━━━━━━━━━━━━━━━━━━━━━━━━━━━\u001b[0m \u001b[32m99.1/99.1 kB\u001b[0m \u001b[31m16.3 MB/s\u001b[0m eta \u001b[36m0:00:00\u001b[0m\n",
            "\u001b[2K     \u001b[90m━━━━━━━━━━━━━━━━━━━━━━━━━━━━━━━━━━━━━━━━\u001b[0m \u001b[32m21.1/21.1 MB\u001b[0m \u001b[31m76.1 MB/s\u001b[0m eta \u001b[36m0:00:00\u001b[0m\n",
            "\u001b[2K     \u001b[90m━━━━━━━━━━━━━━━━━━━━━━━━━━━━━━━━━━━━━━━━\u001b[0m \u001b[32m2.9/2.9 MB\u001b[0m \u001b[31m23.3 MB/s\u001b[0m eta \u001b[36m0:00:00\u001b[0m\n",
            "\u001b[2K     \u001b[90m━━━━━━━━━━━━━━━━━━━━━━━━━━━━━━━━━━━━━━━━\u001b[0m \u001b[32m908.3/908.3 kB\u001b[0m \u001b[31m34.6 MB/s\u001b[0m eta \u001b[36m0:00:00\u001b[0m\n",
            "\u001b[2K     \u001b[90m━━━━━━━━━━━━━━━━━━━━━━━━━━━━━━━━━━━━━━━━\u001b[0m \u001b[32m307.2/307.2 kB\u001b[0m \u001b[31m32.3 MB/s\u001b[0m eta \u001b[36m0:00:00\u001b[0m\n",
            "\u001b[?25h  Preparing metadata (setup.py) ... \u001b[?25l\u001b[?25hdone\n",
            "  Building wheel for GPUtil (setup.py) ... \u001b[?25l\u001b[?25hdone\n"
          ]
        }
      ]
    },
    {
      "cell_type": "code",
      "source": [
        "import os\n",
        "import shutil\n",
        "import glob\n",
        "import yaml\n",
        "import random\n",
        "\n",
        "import numpy as np\n",
        "import pandas as pd\n",
        "import matplotlib.pyplot as plt\n",
        "\n",
        "import cv2\n",
        "\n",
        "import ultralytics\n",
        "from ultralytics import YOLO\n",
        "\n",
        "import easyocr\n",
        "\n",
        "import xml.etree.ElementTree as xet\n",
        "from bs4 import BeautifulSoup\n",
        "\n",
        "import torch\n",
        "from GPUtil import showUtilization as gpu_usage\n",
        "from numba import cuda\n",
        "import pytesseract"
      ],
      "metadata": {
        "id": "jJT33HUoNIXb"
      },
      "execution_count": 10,
      "outputs": []
    },
    {
      "cell_type": "code",
      "source": [
        "def make_folder(path):\n",
        "    if not os.path.exists(path):\n",
        "        os.mkdir(path)\n",
        "\n",
        "def read_xml(file):\n",
        "    labels = ['filename', 'width', 'height', 'xmin', 'ymin', 'xmax', 'ymax']\n",
        "    data = BeautifulSoup(file,\"xml\")\n",
        "    d = dict()\n",
        "\n",
        "    for label in labels:\n",
        "        txt = data.find(label).text\n",
        "        if all(c.isdigit() for c in txt):\n",
        "            d[label] = int(txt)\n",
        "        else:\n",
        "            d[label] = txt\n",
        "    return d\n",
        "\n",
        "def xml_to_txt(path, height, width):\n",
        "\n",
        "    with open(path, 'r') as f:\n",
        "        txt = read_xml(f.read())\n",
        "\n",
        "    xmin = int(txt['xmin'])\n",
        "    ymin = int(txt['ymin'])\n",
        "    xmax = int(txt['xmax'])\n",
        "    ymax = int(txt['ymax'])\n",
        "\n",
        "    x_center = (xmin+(xmax-xmin)/2)/width\n",
        "    y_center = (ymin+(ymax-ymin)/2)/height\n",
        "\n",
        "    w = (xmax-xmin)/width\n",
        "    h = (ymax-ymin)/height\n",
        "\n",
        "    return f'0 {x_center} {y_center} {w} {h}'"
      ],
      "metadata": {
        "id": "qDqYgtgfvB6B"
      },
      "execution_count": 11,
      "outputs": []
    },
    {
      "cell_type": "code",
      "source": [
        "total_images = glob.glob('/content/drive/MyDrive/Colab Notebooks/ML/datasets/images/*.png')"
      ],
      "metadata": {
        "id": "SfqVW2VJNenf"
      },
      "execution_count": 12,
      "outputs": []
    },
    {
      "cell_type": "code",
      "source": [
        "indices = np.random.choice(len(total_images), size=int(0.2*len(total_images)), replace= False )\n",
        "val_indices = np.random.choice(indices, size=int(0.2*len(indices)), replace= False)"
      ],
      "metadata": {
        "id": "jUtKTulGocDm"
      },
      "execution_count": 13,
      "outputs": []
    },
    {
      "cell_type": "code",
      "source": [
        "make_folder('/content/drive/MyDrive/Colab Notebooks/ML/datasets/output')"
      ],
      "metadata": {
        "id": "MwBa6_KNbU6H"
      },
      "execution_count": 14,
      "outputs": []
    },
    {
      "cell_type": "code",
      "source": [
        "sets = ['train','valid','test']\n",
        "dirs = ['images','labels']\n",
        "for set in sets:\n",
        "    path1 = '/content/drive/MyDrive/Colab Notebooks/ML/datasets/output'+f'/{set}'\n",
        "    make_folder(path1)\n",
        "    for dir in dirs:\n",
        "        path2 = path1+f'/{dir}'\n",
        "        make_folder(path2)\n",
        "        print(path2)"
      ],
      "metadata": {
        "id": "YybftZVxNnzi",
        "colab": {
          "base_uri": "https://localhost:8080/"
        },
        "outputId": "798408f9-1b05-4549-b6ec-194ec450fca4"
      },
      "execution_count": 15,
      "outputs": [
        {
          "output_type": "stream",
          "name": "stdout",
          "text": [
            "/content/drive/MyDrive/Colab Notebooks/ML/datasets/output/train/images\n",
            "/content/drive/MyDrive/Colab Notebooks/ML/datasets/output/train/labels\n",
            "/content/drive/MyDrive/Colab Notebooks/ML/datasets/output/valid/images\n",
            "/content/drive/MyDrive/Colab Notebooks/ML/datasets/output/valid/labels\n",
            "/content/drive/MyDrive/Colab Notebooks/ML/datasets/output/test/images\n",
            "/content/drive/MyDrive/Colab Notebooks/ML/datasets/output/test/labels\n"
          ]
        }
      ]
    },
    {
      "cell_type": "code",
      "source": [
        "for i, img_path in enumerate(total_images):\n",
        "    if i in indices:\n",
        "        dataset = 'test'\n",
        "    elif i in val_indices:\n",
        "        dataset = 'valid'\n",
        "    else:\n",
        "        dataset = 'train'\n",
        "    dataset_type_path = '/content/drive/MyDrive/Colab Notebooks/ML/datasets/output'+f'/{dataset}'\n",
        "\n",
        "    image = cv2.imread(img_path)\n",
        "    img_height, img_width,_ = image.shape\n",
        "\n",
        "    annotations_path = img_path.replace('images','annotations').replace('png','xml')\n",
        "    boxes_info = xml_to_txt(annotations_path, img_height, img_width)\n",
        "\n",
        "    img_file_name = img_path.split('/')[-1]\n",
        "    txt_file_name = img_file_name.replace('.png','.txt')\n",
        "    new_img_path = dataset_type_path+'/images/'+img_file_name\n",
        "    new_label_path = dataset_type_path+'/labels/'+txt_file_name\n",
        "    shutil.copy2(img_path, new_img_path)\n",
        "\n",
        "    txt = open(new_label_path,\"w\")\n",
        "    txt.write(boxes_info)\n",
        "    txt.close()\n"
      ],
      "metadata": {
        "id": "u8PMrmYrNtYF"
      },
      "execution_count": 16,
      "outputs": []
    },
    {
      "cell_type": "code",
      "source": [
        "yaml_details =  {\n",
        "                        'names' : 'vehicle_plate',\n",
        "                        'nc' : 1,\n",
        "                        'train' : '/content/drive/MyDrive/Colab Notebooks/ML/datasets/output/train',\n",
        "                        'val' : '/content/drive/MyDrive/Colab Notebooks/ML/datasets/output/valid',\n",
        "                        'test' : '/content/drive/MyDrive/Colab Notebooks/ML/datasets/output/test'\n",
        "                }\n",
        "\n",
        "with open('/content/drive/MyDrive/Colab Notebooks/ML/datasets/output/plate.yaml','w+') as file:\n",
        "    yaml.safe_dump(yaml_details, file)\n",
        "\n",
        "with open('/content/drive/MyDrive/Colab Notebooks/ML/datasets/output/plate.yaml','r') as file:\n",
        "    plate_yaml = yaml.safe_load(file)\n"
      ],
      "metadata": {
        "id": "uHZP1S8Zsx_0"
      },
      "execution_count": 17,
      "outputs": []
    },
    {
      "cell_type": "code",
      "source": [
        "license_plate_yolo = YOLO('yolov8s.pt')"
      ],
      "metadata": {
        "colab": {
          "base_uri": "https://localhost:8080/"
        },
        "id": "Y2QJRPNls0qG",
        "outputId": "cb7a4dff-ab58-4510-b299-8e78d8655e3a"
      },
      "execution_count": 18,
      "outputs": [
        {
          "output_type": "stream",
          "name": "stdout",
          "text": [
            "Downloading https://github.com/ultralytics/assets/releases/download/v8.1.0/yolov8s.pt to 'yolov8s.pt'...\n"
          ]
        },
        {
          "output_type": "stream",
          "name": "stderr",
          "text": [
            "100%|██████████| 21.5M/21.5M [00:00<00:00, 190MB/s]\n"
          ]
        }
      ]
    }
  ]
}